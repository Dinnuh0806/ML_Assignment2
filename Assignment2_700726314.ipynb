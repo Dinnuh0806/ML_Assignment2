{
 "cells": [
  {
   "cell_type": "code",
   "execution_count": 31,
   "id": "01d1f93c",
   "metadata": {},
   "outputs": [
    {
     "name": "stdout",
     "output_type": "stream",
     "text": [
      "Enter no.of Stars to print in pattern:6\n",
      "* \n",
      "* * \n",
      "* * * \n",
      "* * * * \n",
      "* * * * * \n",
      "* * * * * * \n",
      "* * * * * \n",
      "* * * * \n",
      "* * * \n",
      "* * \n",
      "* \n",
      "\n"
     ]
    }
   ],
   "source": [
    "r = int(input(\"Enter no.of Stars to print in pattern:\"))\n",
    "for m in range(0, r):\n",
    "    for n in range(0, m + 1):\n",
    "        print('*', end = ' ')\n",
    "    print()\n",
    "\n",
    "for m in range(r - 1, -1, -1):\n",
    "    for n in range(0, m):\n",
    "        print('*', end = ' ')\n",
    "    print()"
   ]
  },
  {
   "cell_type": "code",
   "execution_count": 27,
   "id": "19120156",
   "metadata": {},
   "outputs": [
    {
     "name": "stdout",
     "output_type": "stream",
     "text": [
      "The list is : [10, 20, 30, 40, 50, 60, 70, 80, 90, 100]\n",
      "The elements in odd positions are : \n",
      "20\n",
      "40\n",
      "60\n",
      "80\n",
      "100\n"
     ]
    }
   ],
   "source": [
    "my_list = [10,20,30,40,50,60,70,80,90,100]\n",
    "print(\"The list is :\",my_list)\n",
    "print(\"The elements in odd positions are : \")\n",
    "for k in range(1, len(my_list), 2):\n",
    "   print(my_list[k])"
   ]
  },
  {
   "cell_type": "code",
   "execution_count": 11,
   "id": "8155375e",
   "metadata": {},
   "outputs": [
    {
     "name": "stdout",
     "output_type": "stream",
     "text": [
      "[23, 'python', 23.98]\n",
      "[\"<class 'int'>\", \"<class 'str'>\", \"<class 'float'>\"]\n"
     ]
    }
   ],
   "source": [
    "def append_types(x):\n",
    "    r=[]\n",
    "    for item in x:\n",
    "        r.append(str(type(item)))\n",
    "    return r\n",
    "x=[23,'python',23.98]\n",
    "print(x)\n",
    "print(append_types(x))"
   ]
  },
  {
   "cell_type": "code",
   "execution_count": 26,
   "id": "aee6ddcf",
   "metadata": {},
   "outputs": [
    {
     "name": "stdout",
     "output_type": "stream",
     "text": [
      "Sample List: [1, 2, 3, 3, 3, 4, 5]\n",
      "Unique List: [1, 2, 3, 4, 5]\n"
     ]
    }
   ],
   "source": [
    "sample_list = [1,2,3,3,3,4,5]\n",
    "print(\"Sample List:\",sample_list)\n",
    "unique_list = list(dict.fromkeys(sample_list))\n",
    "print(\"Unique List:\",unique_list)"
   ]
  },
  {
   "cell_type": "code",
   "execution_count": 23,
   "id": "ea00887d",
   "metadata": {},
   "outputs": [
    {
     "name": "stdout",
     "output_type": "stream",
     "text": [
      "No.of Upper-case characters:  3\n",
      "No.of Lower-case characters:  12\n"
     ]
    }
   ],
   "source": [
    "def case_count(s):\n",
    "    upper = 0\n",
    "    lower= 0\n",
    "    for ch in s:\n",
    "        if ch.isupper():\n",
    "            upper += 1\n",
    "        elif ch.islower():\n",
    "            lower += 1\n",
    "    return upper, lower\n",
    "\n",
    "inputstring = 'The quick Brow Fox'\n",
    "upper, lower = case_count(inputstring)\n",
    "print(\"No.of Upper-case characters: \",upper)\n",
    "print(\"No.of Lower-case characters: \",lower)"
   ]
  },
  {
   "cell_type": "code",
   "execution_count": null,
   "id": "d2705a33",
   "metadata": {},
   "outputs": [],
   "source": []
  }
 ],
 "metadata": {
  "kernelspec": {
   "display_name": "Python 3 (ipykernel)",
   "language": "python",
   "name": "python3"
  },
  "language_info": {
   "codemirror_mode": {
    "name": "ipython",
    "version": 3
   },
   "file_extension": ".py",
   "mimetype": "text/x-python",
   "name": "python",
   "nbconvert_exporter": "python",
   "pygments_lexer": "ipython3",
   "version": "3.11.1"
  }
 },
 "nbformat": 4,
 "nbformat_minor": 5
}
